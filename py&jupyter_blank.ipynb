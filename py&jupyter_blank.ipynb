{
 "cells": [
  {
   "cell_type": "markdown",
   "metadata": {},
   "source": [
    "# 欢迎来到“Python 冒险之旅”"
   ]
  },
  {
   "cell_type": "markdown",
   "metadata": {},
   "source": [
    "## 1. Python介绍\n",
    "\n",
    "- **Python** 是由 **Guido van Rossum（吉多·范罗苏姆）** 于 20 世纪 90 年代初期发明的编程语言\n",
    "\n",
    "- “蟒蛇” VS **Monty Python’s Flying Circus**\n",
    "\n",
    "- Python 的设计哲学强调代码的可读性和简洁性，因此，它成为了非常适合初学者的语言，同时又足够强大，适用于各种复杂任务\n",
    "\n",
    "- **Python 的特点**\n",
    "    - 语法简洁\n",
    "    - 丰富的库\n",
    "    - 跨平台\n",
    "    - 广泛应用"
   ]
  },
  {
   "cell_type": "markdown",
   "metadata": {},
   "source": [
    "## 2. 工具简介：编程的魔法助手\n",
    "\n",
    "- **VSCode：代码编辑的利器**\n",
    "    - **Visual Studio Code（VSCode）** 是由 Microsoft 开发的轻量级代码编辑器，支持多种编程语言，是编写 Python 代码的理想选择。\n",
    "\n",
    "    - **主要功能**：\n",
    "        - **语法高亮和自动补全**\n",
    "        - **集成终端**\n",
    "        - **调试工具**\n",
    "\n",
    "    - VSCode 就像是一个装满工具的“工具箱”，能帮助你快速、高效地编写、调试和运行 Python 代码\n",
    "    \n",
    "\n",
    "    \n",
    "- **Jupyter Notebook：交互式编程的理想工具**\n",
    "    - **Jupyter Notebook** 是一个基于浏览器的编程环境，适合交互式的编程和数据分析，常用于数据科学、机器学习和教学。\n",
    "\n",
    "    - **主要特点**：\n",
    "        - **单元化结构**\n",
    "        - **Markdown 支持**\n",
    "        - **可视化集成**\n",
    "        \n",
    "    - Jupyter Notebook 就像是一个“笔记本”，你不仅可以记录想法，还能边写边计算，马上看到结果，是进行探索性编程和数据分析的理想工具。"
   ]
  },
  {
   "cell_type": "markdown",
   "metadata": {},
   "source": [
    "## 3. 小互动：“第一次编程体验”"
   ]
  },
  {
   "cell_type": "markdown",
   "metadata": {},
   "source": [
    "- **`print()` 函数**：\n",
    "    - 函数调用时必须使用小括号括起来，并且输出内容放在括号内。同时需要打印的语句要用双引号 `\"` 或单引号 `'` 包围。"
   ]
  },
  {
   "cell_type": "code",
   "execution_count": null,
   "metadata": {},
   "outputs": [],
   "source": []
  },
  {
   "cell_type": "markdown",
   "metadata": {},
   "source": [
    "# Python 基础语法"
   ]
  },
  {
   "cell_type": "markdown",
   "metadata": {},
   "source": [
    "## 1. 打印输出与注释"
   ]
  },
  {
   "cell_type": "markdown",
   "metadata": {},
   "source": [
    "- **打印：**"
   ]
  },
  {
   "cell_type": "code",
   "execution_count": null,
   "metadata": {},
   "outputs": [],
   "source": []
  },
  {
   "cell_type": "markdown",
   "metadata": {},
   "source": [
    "- **注释**：\n",
    "    - 注释以 `#` 开头，后面写上说明文字。可以用来记录思考或提醒。"
   ]
  },
  {
   "cell_type": "code",
   "execution_count": 3,
   "metadata": {},
   "outputs": [],
   "source": []
  },
  {
   "cell_type": "markdown",
   "metadata": {},
   "source": [
    "## 2. 变量与数据类型"
   ]
  },
  {
   "cell_type": "markdown",
   "metadata": {},
   "source": [
    "- 变量名必须以字母或下划线开头，后面可以跟字母、数字。"
   ]
  },
  {
   "cell_type": "code",
   "execution_count": 17,
   "metadata": {},
   "outputs": [],
   "source": []
  },
  {
   "cell_type": "markdown",
   "metadata": {},
   "source": [
    "## 3. 条件判断与逻辑运算"
   ]
  },
  {
   "cell_type": "markdown",
   "metadata": {},
   "source": [
    "- **if 语句：**\n",
    "    - if 后面跟判断条件，条件为 True 时执行缩进部分的代码。"
   ]
  },
  {
   "cell_type": "code",
   "execution_count": null,
   "metadata": {},
   "outputs": [],
   "source": []
  },
  {
   "cell_type": "markdown",
   "metadata": {},
   "source": [
    "- **逻辑运算符：**\n",
    "    - ==、!=、> 等运算符用于判断探险者是否达到了某个条件。"
   ]
  },
  {
   "cell_type": "code",
   "execution_count": null,
   "metadata": {},
   "outputs": [],
   "source": []
  },
  {
   "cell_type": "markdown",
   "metadata": {},
   "source": [
    "## 4. 循环结构：重复任务"
   ]
  },
  {
   "cell_type": "markdown",
   "metadata": {},
   "source": [
    "- **for 循环：**\n",
    "    - for 后面跟一个变量名和 in 关键字。"
   ]
  },
  {
   "cell_type": "code",
   "execution_count": null,
   "metadata": {},
   "outputs": [],
   "source": []
  },
  {
   "cell_type": "markdown",
   "metadata": {},
   "source": [
    "- **while 循环：**\n",
    "    - 当条件为 True 时不断执行的循环。"
   ]
  },
  {
   "cell_type": "code",
   "execution_count": null,
   "metadata": {},
   "outputs": [],
   "source": []
  },
  {
   "cell_type": "markdown",
   "metadata": {},
   "source": [
    "# NumPy 探索神秘宝石世界"
   ]
  },
  {
   "cell_type": "markdown",
   "metadata": {},
   "source": [
    "## 1. **NumPy 简介：处理“魔法宝石”的强大工具**\n",
    "\n",
    "- **NumPy 是什么？**\n",
    "    - NumPy 是 Python 的强大工具库，专门用来处理**多维数组**和**矩阵**。\n",
    "    \n",
    "    - 用 NumPy，我们可以轻松处理大量“宝石”的属性变化、合成宝石、计算它们的总和或最大值等。\n",
    "    \n",
    "    - 每个数组就像是一个宝石袋子，里面存储着许多具有不同属性的宝石，而 NumPy 就是帮助我们操作这些宝石的“魔法工具”。\n",
    "\n",
    "- **NumPy 的应用场景**：\n",
    "    - 在科学计算、数据分析、机器学习等领域，NumPy 都被广泛应用，帮助我们快速处理大规模数据。\n"
   ]
  },
  {
   "cell_type": "markdown",
   "metadata": {},
   "source": [
    "## 2. **NumPy 安装与基础操作**\n",
    "\n",
    "- **安装 NumPy**：如果还没有安装 NumPy，可以使用以下命令安装："
   ]
  },
  {
   "cell_type": "code",
   "execution_count": null,
   "metadata": {},
   "outputs": [],
   "source": []
  },
  {
   "cell_type": "markdown",
   "metadata": {},
   "source": [
    "- **导入 NumPy：**"
   ]
  },
  {
   "cell_type": "code",
   "execution_count": 25,
   "metadata": {},
   "outputs": [],
   "source": []
  },
  {
   "cell_type": "markdown",
   "metadata": {},
   "source": [
    "## 3. 创建属于你的宝石袋：NumPy 数组"
   ]
  },
  {
   "cell_type": "markdown",
   "metadata": {},
   "source": [
    "- 一维数组：单个宝石袋：\n",
    "    -  用 np.array() 创建一个包含多颗宝石的数组。"
   ]
  },
  {
   "cell_type": "code",
   "execution_count": 27,
   "metadata": {},
   "outputs": [],
   "source": []
  },
  {
   "cell_type": "markdown",
   "metadata": {},
   "source": [
    "- 多维数组：多个宝石袋或宝石组合："
   ]
  },
  {
   "cell_type": "code",
   "execution_count": null,
   "metadata": {},
   "outputs": [],
   "source": []
  },
  {
   "cell_type": "markdown",
   "metadata": {},
   "source": [
    "- 宝石的维度和形状：\n",
    "    - 维度：我们可以用 ndarray.ndim 查看宝石矩阵的维度\n",
    "    - 形状：用 ndarray.shape 查看矩阵的形状"
   ]
  },
  {
   "cell_type": "code",
   "execution_count": null,
   "metadata": {},
   "outputs": [],
   "source": []
  },
  {
   "cell_type": "code",
   "execution_count": null,
   "metadata": {},
   "outputs": [],
   "source": []
  },
  {
   "cell_type": "markdown",
   "metadata": {},
   "source": [
    "## 4. 操作你的宝石：数组运算"
   ]
  },
  {
   "cell_type": "markdown",
   "metadata": {},
   "source": [
    "- 宝石合成：使用 NumPy 对宝石数组进行加减乘除运算"
   ]
  },
  {
   "cell_type": "code",
   "execution_count": null,
   "metadata": {},
   "outputs": [],
   "source": []
  },
  {
   "cell_type": "markdown",
   "metadata": {},
   "source": [
    "- 宝石的增幅：数组广播："
   ]
  },
  {
   "cell_type": "code",
   "execution_count": null,
   "metadata": {},
   "outputs": [],
   "source": []
  },
  {
   "cell_type": "markdown",
   "metadata": {},
   "source": [
    "- 宝石选择：索引与切片："
   ]
  },
  {
   "cell_type": "code",
   "execution_count": null,
   "metadata": {},
   "outputs": [],
   "source": []
  },
  {
   "cell_type": "markdown",
   "metadata": {},
   "source": [
    "## 5. 进阶操作：变形和重组宝石"
   ]
  },
  {
   "cell_type": "markdown",
   "metadata": {},
   "source": [
    "- 重塑宝石形状：reshape()："
   ]
  },
  {
   "cell_type": "code",
   "execution_count": null,
   "metadata": {},
   "outputs": [],
   "source": []
  },
  {
   "cell_type": "markdown",
   "metadata": {},
   "source": [
    "- 合并与拆分宝石：\n",
    "    - 合并宝石袋：concatenate()\n",
    "    - 拆分宝石袋：split() "
   ]
  },
  {
   "cell_type": "code",
   "execution_count": null,
   "metadata": {},
   "outputs": [],
   "source": []
  },
  {
   "cell_type": "code",
   "execution_count": null,
   "metadata": {},
   "outputs": [],
   "source": []
  },
  {
   "cell_type": "markdown",
   "metadata": {},
   "source": [
    "## 6. NumPy 的统计与数学魔法：分析宝石的属性"
   ]
  },
  {
   "cell_type": "markdown",
   "metadata": {},
   "source": [
    "- 统计属性"
   ]
  },
  {
   "cell_type": "code",
   "execution_count": null,
   "metadata": {},
   "outputs": [],
   "source": []
  },
  {
   "cell_type": "markdown",
   "metadata": {},
   "source": [
    "- 数学魔法"
   ]
  },
  {
   "cell_type": "code",
   "execution_count": null,
   "metadata": {},
   "outputs": [],
   "source": []
  },
  {
   "cell_type": "markdown",
   "metadata": {},
   "source": [
    "## 7. 实践任务：设计你的“宝石装备”"
   ]
  },
  {
   "cell_type": "markdown",
   "metadata": {},
   "source": [
    "- 创建一个包含 0 到 9 的数组，代表你找到的宝石编号："
   ]
  },
  {
   "cell_type": "code",
   "execution_count": null,
   "metadata": {},
   "outputs": [],
   "source": []
  },
  {
   "cell_type": "markdown",
   "metadata": {},
   "source": [
    "- 计算每个宝石的属性平方值，提升宝石的能力："
   ]
  },
  {
   "cell_type": "code",
   "execution_count": null,
   "metadata": {},
   "outputs": [],
   "source": []
  },
  {
   "cell_type": "markdown",
   "metadata": {},
   "source": [
    "- 使用 reshape() 将宝石数组变成 2 行 5 列的矩阵，然后计算每行的宝石总和，看看哪一行的宝石更强大："
   ]
  },
  {
   "cell_type": "code",
   "execution_count": null,
   "metadata": {},
   "outputs": [],
   "source": []
  },
  {
   "cell_type": "markdown",
   "metadata": {},
   "source": [
    "# Matplotlib：绘制冒险路线图 与 宝石数据"
   ]
  },
  {
   "cell_type": "markdown",
   "metadata": {},
   "source": [
    "## 1. Matplotlib 简介：绘制你的冒险地图\n",
    "\n",
    "- **Matplotlib** 是 Python 最常用的**数据可视化库**，专门用于生成二维图表（如折线图、柱状图、散点图等）。它可以帮助我们将数据以图形的形式直观地呈现出来，是科学计算和数据分析的常用工具之一。\n",
    "\n",
    "- **为什么使用 Matplotlib？**\n",
    "    - **灵活性**\n",
    "    - **高兼容性**\n",
    "    - **广泛应用**\n",
    "    - **Matplotlib**\n",
    "    \n",
    "- **适用场景**：\n",
    "    - 数据分析中的结果展示，如观察数据的变化趋势、异常点、分布等。\n",
    "    - 机器学习中用于展示训练曲线或模型评估结果。\n",
    "    - 科学研究中用于生成高质量的图形展示实验数据。"
   ]
  },
  {
   "cell_type": "markdown",
   "metadata": {},
   "source": [
    "## **2. Matplotlib 的核心组件**\n",
    "\n",
    "Matplotlib 的核心模块是 **`pyplot`**，它提供了一系列函数来控制图表的生成和美化。以下是 Matplotlib 的几个关键概念：\n",
    "\n",
    "1. **Figure（图形）**：\n",
    "    - 整个图像的容器，通常包含一个或多个子图（axes），可以看作是一张图表的“画布”。\n",
    "2. **Axes（子图）**：\n",
    "    - 表示图表中的每一个子绘图区，Axes 是 Figure 的一部分。在一个 Figure 中可以有多个子图。Axes 是我们用来绘制数据的主要区域。\n",
    "3. **Axis（坐标轴）**：\n",
    "    - Axes 的一部分，表示图形的 x 轴和 y 轴。通过设置坐标轴的范围和标签，我们可以更好地展示数据的含义。\n",
    "4. **Plot（绘图）**：\n",
    "    - 我们可以用各种方式将数据绘制在 Axes 上，比如折线图、散点图、柱状图等。"
   ]
  },
  {
   "cell_type": "markdown",
   "metadata": {},
   "source": [
    "## 3. 安装与导入 Matplotlib"
   ]
  },
  {
   "cell_type": "code",
   "execution_count": null,
   "metadata": {},
   "outputs": [],
   "source": []
  },
  {
   "cell_type": "markdown",
   "metadata": {},
   "source": [
    "- 导入 Matplotlib 的 pyplot 模块："
   ]
  },
  {
   "cell_type": "code",
   "execution_count": null,
   "metadata": {},
   "outputs": [],
   "source": []
  },
  {
   "cell_type": "markdown",
   "metadata": {},
   "source": [
    "## 4. 实战：绘制“冒险路线图”"
   ]
  },
  {
   "cell_type": "markdown",
   "metadata": {},
   "source": [
    "- 创建一个折线图来展示探险者前进的路线："
   ]
  },
  {
   "cell_type": "code",
   "execution_count": null,
   "metadata": {},
   "outputs": [],
   "source": []
  },
  {
   "cell_type": "markdown",
   "metadata": {},
   "source": [
    "## 5. 实战：绘制“宝石数据”"
   ]
  },
  {
   "cell_type": "markdown",
   "metadata": {},
   "source": [
    "- 柱状图"
   ]
  },
  {
   "cell_type": "code",
   "execution_count": null,
   "metadata": {},
   "outputs": [],
   "source": []
  },
  {
   "cell_type": "markdown",
   "metadata": {},
   "source": [
    "- 散点图"
   ]
  },
  {
   "cell_type": "code",
   "execution_count": null,
   "metadata": {},
   "outputs": [],
   "source": []
  },
  {
   "cell_type": "markdown",
   "metadata": {},
   "source": [
    "- 饼图"
   ]
  },
  {
   "cell_type": "code",
   "execution_count": null,
   "metadata": {},
   "outputs": [],
   "source": []
  },
  {
   "cell_type": "markdown",
   "metadata": {},
   "source": [
    "- 直方图"
   ]
  },
  {
   "cell_type": "code",
   "execution_count": null,
   "metadata": {},
   "outputs": [],
   "source": []
  },
  {
   "cell_type": "markdown",
   "metadata": {},
   "source": [
    "## 6. Matplotlib 的图表定制与高级功能"
   ]
  },
  {
   "cell_type": "markdown",
   "metadata": {},
   "source": [
    "- 颜色和线型：可以通过 color、linestyle 等参数自定义线条颜色和样式。"
   ]
  },
  {
   "cell_type": "code",
   "execution_count": null,
   "metadata": {},
   "outputs": [],
   "source": []
  },
  {
   "cell_type": "markdown",
   "metadata": {},
   "source": [
    "- 图例：在复杂图表中，使用 legend() 添加图例，帮助解释不同数据线的含义。"
   ]
  },
  {
   "cell_type": "code",
   "execution_count": null,
   "metadata": {},
   "outputs": [],
   "source": []
  },
  {
   "cell_type": "markdown",
   "metadata": {},
   "source": [
    "- 子图布局：使用 subplot() 函数可以在一个图形窗口中绘制多个子图，形成网格布局。"
   ]
  },
  {
   "cell_type": "code",
   "execution_count": null,
   "metadata": {},
   "outputs": [],
   "source": []
  }
 ],
 "metadata": {
  "kernelspec": {
   "display_name": "Python 3",
   "language": "python",
   "name": "python3"
  },
  "language_info": {
   "codemirror_mode": {
    "name": "ipython",
    "version": 3
   },
   "file_extension": ".py",
   "mimetype": "text/x-python",
   "name": "python",
   "nbconvert_exporter": "python",
   "pygments_lexer": "ipython3",
   "version": "3.13.0"
  }
 },
 "nbformat": 4,
 "nbformat_minor": 2
}
